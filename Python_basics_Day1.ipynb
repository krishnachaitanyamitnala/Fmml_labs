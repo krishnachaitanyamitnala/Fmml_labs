{
  "nbformat": 4,
  "nbformat_minor": 0,
  "metadata": {
    "colab": {
      "provenance": [],
      "include_colab_link": true
    },
    "kernelspec": {
      "name": "python3",
      "display_name": "Python 3"
    },
    "language_info": {
      "name": "python"
    }
  },
  "cells": [
    {
      "cell_type": "markdown",
      "metadata": {
        "id": "view-in-github",
        "colab_type": "text"
      },
      "source": [
        "<a href=\"https://colab.research.google.com/github/krishnachaitanyamitnala/Fmml_labs/blob/main/Python_basics_Day1.ipynb\" target=\"_parent\"><img src=\"https://colab.research.google.com/assets/colab-badge.svg\" alt=\"Open In Colab\"/></a>"
      ]
    },
    {
      "cell_type": "markdown",
      "source": [
        "\n",
        "Declare a variable called \"aid\" and asign a value as your name then print the name like \"Kiet\"\n",
        "---\n",
        "\n"
      ],
      "metadata": {
        "id": "2UrXUibXpdQn"
      }
    },
    {
      "cell_type": "code",
      "source": [
        "#write your code here"
      ],
      "metadata": {
        "id": "-MFfUJNJp5wY"
      },
      "execution_count": null,
      "outputs": []
    },
    {
      "cell_type": "markdown",
      "source": [
        " declare a value to the valrable then print the type of value"
      ],
      "metadata": {
        "id": "b9GaqLWgqBOW"
      }
    },
    {
      "cell_type": "code",
      "source": [
        "#write your code here"
      ],
      "metadata": {
        "id": "P_U7hv3VqaCM"
      },
      "execution_count": null,
      "outputs": []
    },
    {
      "cell_type": "markdown",
      "source": [
        "Write a python code using Format Method and \"fstrings\""
      ],
      "metadata": {
        "id": "qALPtb9iqdah"
      }
    },
    {
      "cell_type": "code",
      "source": [
        "#write your code here"
      ],
      "metadata": {
        "id": "GybmaiaiqzQv"
      },
      "execution_count": null,
      "outputs": []
    },
    {
      "cell_type": "markdown",
      "source": [
        "Write a python code using .join() method\n",
        "\n",
        "Input format:\n",
        "kiet\n",
        "Output format:\n",
        "kkiet"
      ],
      "metadata": {
        "id": "WnitQ77GpcWQ"
      }
    },
    {
      "cell_type": "code",
      "source": [
        "#write your code here"
      ],
      "metadata": {
        "id": "zmQ2Y2wjrY7-"
      },
      "execution_count": null,
      "outputs": []
    },
    {
      "cell_type": "markdown",
      "source": [
        "Write a python code for checking whether the person is eligible for  Vote or Not  using conditionals"
      ],
      "metadata": {
        "id": "xzP0JMI5rWQ9"
      }
    },
    {
      "cell_type": "code",
      "source": [
        "#write your code here"
      ],
      "metadata": {
        "id": "JEb5o1NTrz7V"
      },
      "execution_count": null,
      "outputs": []
    },
    {
      "cell_type": "markdown",
      "source": [
        "write simple codes using string methods:\n"
      ],
      "metadata": {
        "id": "KDH6s5xkr1L1"
      }
    },
    {
      "cell_type": "code",
      "source": [
        "#any 10 methods\n",
        "#write your code here"
      ],
      "metadata": {
        "id": "UiMrtWMPsagV"
      },
      "execution_count": null,
      "outputs": []
    },
    {
      "cell_type": "markdown",
      "source": [
        "#DEBUGGING"
      ],
      "metadata": {
        "id": "X4b8OXNish-E"
      }
    },
    {
      "cell_type": "code",
      "source": [
        "a=\"kiek\"\n",
        "b=\"kiet\"\n",
        "print(\"both {} and {} are in same campus\".format(a,b))\n",
        "#output should be like this\n",
        "#both kiet and kiek are in same campus"
      ],
      "metadata": {
        "colab": {
          "base_uri": "https://localhost:8080/"
        },
        "id": "eArmRQ2Xsg4b",
        "outputId": "84ff11dc-fee6-47ae-c796-219136852278"
      },
      "execution_count": null,
      "outputs": [
        {
          "output_type": "stream",
          "name": "stdout",
          "text": [
            "both kiek and kiet are in same campus\n"
          ]
        }
      ]
    },
    {
      "cell_type": "code",
      "source": [
        "a=\"kiet\"\n",
        "b=\"kiek\"\n",
        "print(\"both {a} and {b} are in same campus\")\n",
        "#both kiet and kiek are in same campus\n",
        "#correct the output"
      ],
      "metadata": {
        "colab": {
          "base_uri": "https://localhost:8080/"
        },
        "id": "NTSKMEAftLde",
        "outputId": "738464fa-c8fa-4643-b0a4-377456645632"
      },
      "execution_count": null,
      "outputs": [
        {
          "output_type": "stream",
          "name": "stdout",
          "text": [
            "both {a} and {b} are in same campus\n"
          ]
        }
      ]
    },
    {
      "cell_type": "code",
      "source": [
        "a=5\n",
        "b=12\n",
        "if a==5 and b==12\n",
        "  print(a,b)\n",
        "# correct the code"
      ],
      "metadata": {
        "colab": {
          "base_uri": "https://localhost:8080/",
          "height": 141
        },
        "id": "1Kl6TiW5t85r",
        "outputId": "a5427597-2d44-401b-9ad3-7970ed2f56a5"
      },
      "execution_count": null,
      "outputs": [
        {
          "output_type": "error",
          "ename": "SyntaxError",
          "evalue": "ignored",
          "traceback": [
            "\u001b[0;36m  File \u001b[0;32m\"<ipython-input-9-0e890cbbe043>\"\u001b[0;36m, line \u001b[0;32m3\u001b[0m\n\u001b[0;31m    if a==5 and b==12\u001b[0m\n\u001b[0m                     ^\u001b[0m\n\u001b[0;31mSyntaxError\u001b[0m\u001b[0;31m:\u001b[0m expected ':'\n"
          ]
        }
      ]
    },
    {
      "cell_type": "code",
      "source": [
        "if a%2=0:\n",
        "   print(\"a is divisible by 2\")\n",
        "\n",
        "else:\n",
        "    print(\"not divisible\")"
      ],
      "metadata": {
        "id": "HZn24oUpucy8",
        "colab": {
          "base_uri": "https://localhost:8080/",
          "height": 141
        },
        "outputId": "e7e417b0-eb15-4560-a593-71c1bb3df876"
      },
      "execution_count": null,
      "outputs": [
        {
          "output_type": "error",
          "ename": "SyntaxError",
          "evalue": "ignored",
          "traceback": [
            "\u001b[0;36m  File \u001b[0;32m\"<ipython-input-10-21fa983aaee2>\"\u001b[0;36m, line \u001b[0;32m1\u001b[0m\n\u001b[0;31m    if a%2=0:\u001b[0m\n\u001b[0m       ^\u001b[0m\n\u001b[0;31mSyntaxError\u001b[0m\u001b[0;31m:\u001b[0m cannot assign to expression here. Maybe you meant '==' instead of '='?\n"
          ]
        }
      ]
    }
  ]
}